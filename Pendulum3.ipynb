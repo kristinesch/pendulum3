{
 "cells": [
  {
   "cell_type": "markdown",
   "metadata": {},
   "source": [
    "# Computational assigment 3\n",
    "Kristine Schüller and Sigrid Aunsmo"
   ]
  },
  {
   "cell_type": "markdown",
   "metadata": {},
   "source": [
    "### 1  Simulate the trajectory up to t = 60 s (1 min) by using three values of the driving force:  0.0, 0.5 and 1.2. Plot the angle θ and angular velocity ω as a function of time in separate panels on top of each other. Limit the possible values of θ between [-π,π], i.e. add or subtract 2π in case it is necessary."
   ]
  },
  {
   "cell_type": "markdown",
   "metadata": {},
   "source": [
    "### Task 1:"
   ]
  },
  {
   "cell_type": "code",
   "execution_count": null,
   "metadata": {},
   "outputs": [],
   "source": [
    "import numpy as np \n",
    "import matplotlib.pyplot as plt\n",
    "import scipy.constants as sc\n",
    "\n",
    "\n",
    "\"\"\"Defining constants and initial values\"\"\"\n",
    "q0=0.5 #default damping parameter\n",
    "delta_t=0.01 #value for each timestep\n",
    "theta0 = 0.2 #initial value of the anlge theta\n",
    "omega0 = 0 #inital value for the pendulums angular velocity \n",
    "x0 = np.array([theta0,omega0]) #array of the initial values\n",
    "g=sc.g #gravitational accelration\n",
    "l=9.8 #length of pendulum\n",
    "Omega_d=2/3\n",
    "Fd=0.5\n",
    "\n"
   ]
  },
  {
   "cell_type": "code",
   "execution_count": null,
   "metadata": {},
   "outputs": [],
   "source": [
    "\n",
    "\"\"\"Defining functions\"\"\"\n",
    "#h=skrittlengde\n",
    "\n",
    "#Runge Kutta \n",
    "def Kutta4(f,t0,y0,h,nsteps,Fd,q=1,omega_D=1):\n",
    "    Y=np.zeros((nsteps,2))  #2D array. Y[:,0] is theta values and Y[:,1] is omega values \n",
    "    Y[0]=y0 #initial values \n",
    "    T=np.linspace(t0, t0 + h*nsteps, nsteps)\n",
    "    for i in range(nsteps-1): \n",
    "        t=i*h\n",
    "        F1= f(Y[i],t,q,omega_D,Fd)\n",
    "        F2= f(Y[i] + h/2* F1,t,q,omega_D,Fd)\n",
    "        F3= f(Y[i] + h/2* F2,t,q,omega_D,Fd)\n",
    "        F4= f(Y[i] + h*F3,t,q,omega_D,Fd)\n",
    "        \n",
    "        Y[i+1]= Y[i] + h/6*(F1+2*F2+2*F3+F4) #calculating the new theta and omega values\n",
    "        \n",
    "    return Y,T #return array of theta and omega values, and time list\n",
    "\n",
    "\n",
    "\n",
    "def f_forced(w,t,q,omega_D,Fd):\n",
    "    return np.array([w[1],-q*w[1]-g/l*w[0]+Fd*np.sin(omega_D*t)])\n",
    "\n",
    "#Function to be used in Runge Kutta\n",
    "#takes in array of theta and the derivative of theta\n",
    "#returns array of the derivative of theta and the double derivative of theta"
   ]
  },
  {
   "cell_type": "code",
   "execution_count": null,
   "metadata": {},
   "outputs": [],
   "source": [
    "Fd_list=np.array([0.0,0.5,1.2]) #values for Fd\n",
    "t_max=60\n",
    "nsteps=int(t_max/delta_t) #number of timesteps\n",
    "y0=np.array([theta0,omega0]) #array of initial values\n",
    "\n",
    "for i in range(len(Fd_list)):\n",
    "    X,T=Kutta4(f_forced,0,y0,delta_t,nsteps,Fd_list[i],q0,Omega_d)\n",
    "    theta=X[:,0]\n",
    "    omega=X[:,1]\n",
    "    \n",
    "    #plotting, 2 subplots with common x-axis\n",
    "    fig, axs=plt.subplots(2,1,sharex=True,figsize=(15,5))\n",
    "    plt.subplot(2,1,1)\n",
    "    #title for both plots:\n",
    "    plt.suptitle(\"Theta and omega as functions of time for Fd=\"+str(Fd_list[i]))\n",
    "    plt.plot(T, theta)\n",
    "    #plt.legend()\n",
    "    \n",
    "    plt.subplot(2,1,2)\n",
    "    plt.plot(T,omega)\n",
    "    plt.show()\n",
    "    "
   ]
  },
  {
   "cell_type": "markdown",
   "metadata": {},
   "source": [
    "### Task 2"
   ]
  },
  {
   "cell_type": "code",
   "execution_count": null,
   "metadata": {},
   "outputs": [],
   "source": [
    "Fds=[0.5,1.2] #values of Fd\n",
    "y0disp=np.array([theta0+0.001,omega0]) #displacing the initial angle\n",
    "\n",
    "for i in range(2):\n",
    "    X,T=Kutta4(f_forced,0,y0,delta_t,nsteps,Fds[i],q0,Omega_d)\n",
    "    Xdisp,Tdisp=Kutta4(f_forced,0,y0disp,delta_t,nsteps,Fds[i],q0,Omega_d)\n",
    "    D_theta=X[:,0]-Xdisp[:,0] #difference between \n",
    "    \n",
    "    \"\"\"\n",
    "    #test:\n",
    "    plt.plot(T,Xdisp[:,0])\n",
    "    plt.show()\n",
    "    plt.plot(T,X[:,0])\n",
    "    plt.show()\n",
    "    #test slutt\n",
    "    \"\"\"\n",
    "    #!!HER BURDE VI KANSKJE finne LINJE LANGS TOPPUNKTENE OG FINNE LYAPUNOV EXPONENT??\n",
    "    plt.title(\"$\\Delta$ $\\theta$ for Fd$=\"+str(Fds[i]))\n",
    "    plt.yscale(\"log\") #for semilogarithmic plot\n",
    "    plt.plot(T,D_theta)\n",
    "    plt.show()\n",
    "\n",
    "    "
   ]
  },
  {
   "cell_type": "markdown",
   "metadata": {},
   "source": [
    "### Task 3"
   ]
  },
  {
   "cell_type": "code",
   "execution_count": null,
   "metadata": {},
   "outputs": [],
   "source": [
    "Fds=[0.5,1.2]\n",
    "t_max3=100\n",
    "nsteps3=int(t_max/delta_t)\n",
    "\n",
    "\n",
    "for i in range(2):\n",
    "    X,T=Kutta4(f_forced,0,y0,delta_t,nsteps3,Fds[i],q0,Omega_d)\n",
    "    theta=X[:,0]\n",
    "    omega=X[:,1]\n",
    "    \n",
    "    #phase space plot\n",
    "    plt.plot(theta,omega)\n",
    "\n",
    "    \n",
    "\n",
    "\n",
    "    "
   ]
  },
  {
   "cell_type": "code",
   "execution_count": null,
   "metadata": {},
   "outputs": [],
   "source": []
  },
  {
   "cell_type": "code",
   "execution_count": null,
   "metadata": {},
   "outputs": [],
   "source": []
  },
  {
   "cell_type": "code",
   "execution_count": null,
   "metadata": {},
   "outputs": [],
   "source": []
  }
 ],
 "metadata": {
  "kernelspec": {
   "display_name": "Python 3",
   "language": "python",
   "name": "python3"
  },
  "language_info": {
   "codemirror_mode": {
    "name": "ipython",
    "version": 3
   },
   "file_extension": ".py",
   "mimetype": "text/x-python",
   "name": "python",
   "nbconvert_exporter": "python",
   "pygments_lexer": "ipython3",
   "version": "3.6.5"
  }
 },
 "nbformat": 4,
 "nbformat_minor": 2
}
