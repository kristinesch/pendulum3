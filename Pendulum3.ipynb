{
 "cells": [
  {
   "cell_type": "markdown",
   "metadata": {},
   "source": [
    "# Computational assigment 3\n",
    "Kristine Schüller and Sigrid Aunsmo"
   ]
  },
  {
   "cell_type": "code",
   "execution_count": null,
   "metadata": {},
   "outputs": [],
   "source": [
    "import numpy as np \n",
    "import matplotlib.pyplot as plt\n",
    "import scipy.constants as sc\n",
    "\n",
    "\n",
    "\"\"\"Defining constants and initial values\"\"\"\n",
    "q0=0.5 #default damping parameter\n",
    "delta_t=0.01 #value for each timestep\n",
    "theta0 = 0.2 #initial value of the angle theta\n",
    "omega0 = 0 #inital value for the pendulums angular velocity \n",
    "g=sc.g #gravitational acceleration\n",
    "l=9.8 #length of pendulum\n",
    "Omega_d=2/3 #driving frequency\n",
    "Fd=0.5 #driving force\n",
    "\n",
    "\"plotting parameters \"\n",
    "fontsize=15\n",
    "newparams = {'axes.titlesize': fontsize, 'axes.labelsize': fontsize, \n",
    "             'figure.titlesize':20,\n",
    "             'lines.linewidth': 2, 'lines.markersize': 7,\n",
    "             'figure.figsize': (20, 5), 'ytick.labelsize': fontsize,\n",
    "             'xtick.labelsize': fontsize, 'legend.fontsize': fontsize,\n",
    "            'legend.handlelength': 1.0}\n",
    "\n",
    "plt.rcParams.update(newparams)\n"
   ]
  },
  {
   "cell_type": "code",
   "execution_count": null,
   "metadata": {},
   "outputs": [],
   "source": [
    "\n",
    "\"\"\"Defining functions\"\"\"\n",
    "#h=skrittlengde\n",
    "\n",
    "#Runge Kutta \n",
    "def Kutta4(f,t0,y0,h,nsteps,Fd,q=1,omega_D=1):\n",
    "    Y=np.zeros((nsteps,2))  #2D array. Y[:,0] is theta values and Y[:,1] is omega values \n",
    "    Y[0]=y0 #initial values \n",
    "    T=np.linspace(t0, t0 + h*nsteps, nsteps)\n",
    "    for i in range(nsteps-1): \n",
    "        t=i*h\n",
    "        F1= f(Y[i],t,q,omega_D,Fd)\n",
    "        F2= f(Y[i] + h/2* F1,t,q,omega_D,Fd)\n",
    "        F3= f(Y[i] + h/2* F2,t,q,omega_D,Fd)\n",
    "        F4= f(Y[i] + h*F3,t,q,omega_D,Fd)\n",
    "        \n",
    "        Y[i+1]= Y[i] + h/6*(F1+2*F2+2*F3+F4) #calculating the new theta and omega values\n",
    "        \n",
    "    return Y,T #return array of theta and omega values, and time list\n",
    "\n",
    "\n",
    "\n",
    "def f_forced(w,t,q,omega_D,Fd):\n",
    "    return np.array([w[1],-q*w[1]-g/l*w[0]+Fd*np.sin(omega_D*t)])\n",
    "\n",
    "#Function to be used in Runge Kutta\n",
    "#takes in array of theta and the derivative of theta\n",
    "#returns array of the derivative of theta and the double derivative of theta"
   ]
  },
  {
   "cell_type": "markdown",
   "metadata": {},
   "source": [
    "### Task 1:\n",
    "The plots below show $\\theta$ and $\\omega$ as functions of time for three different values of the driving force $F_d$. For $F_d=0$ the pendulums oscillation stops after a short time. For $F_d=0.5$ and $F_d=1.2$, "
   ]
  },
  {
   "cell_type": "code",
   "execution_count": null,
   "metadata": {},
   "outputs": [],
   "source": [
    "Fd_list=np.array([0.0,0.5,1.2]) #values for Fd\n",
    "t_max=60 #maximum value of t\n",
    "nsteps=int(t_max/delta_t) #number of timesteps\n",
    "y0=np.array([theta0,omega0]) #array of initial values\n",
    "\n",
    "#function for plotting theta and omega as functions of time for different values of Fd\n",
    "def plot_omega_theta(Fd_list,f_forced,y0,delta_t,nsteps,q0,Omega_d):\n",
    "    for i in range(len(Fd_list)): #for each different Fd\n",
    "        #calculating theta and omega using Runge Kutta\n",
    "        X,T=Kutta4(f_forced,0,y0,delta_t,nsteps,Fd_list[i],q0,Omega_d)\n",
    "        theta=X[:,0]\n",
    "        omega=X[:,1]\n",
    "\n",
    "        #plotting, 2 subplots with common x-axis\n",
    "        fig, axs=plt.subplots(2,1,sharex=True,figsize=(15,5))\n",
    "        plt.subplot(2,1,1)\n",
    "        plt.ylabel(r\"$\\theta$\")\n",
    "        #title for both plots:\n",
    "        plt.suptitle(r'$\\theta$ and $\\omega$ as functions of time for Fd='+str(Fd_list[i]))\n",
    "        plt.plot(T, theta)\n",
    "\n",
    "        plt.subplot(2,1,2)\n",
    "        plt.ylabel(\"$\\omega$\")\n",
    "        plt.xlabel(\"t\")\n",
    "        plt.plot(T,omega)\n",
    "        plt.show()\n",
    "\n",
    "plot_omega_theta(Fd_list,f_forced,y0,delta_t,nsteps,q0,Omega_d)\n",
    "    "
   ]
  },
  {
   "cell_type": "markdown",
   "metadata": {},
   "source": [
    "### Task 2\n",
    "The first two plots below show $\\theta$ and $\\omega$ as functions of time for the initial angle displaced by 0.001 rad. \n",
    "\n",
    "Below are the plots for the difference between the original and the displaced value of $\\theta$ as a function of time. The y-axis has a logarithmic scale. As can be seen from the plot there is a linear trend in the local maximums for $\\delta \\theta$. "
   ]
  },
  {
   "cell_type": "code",
   "execution_count": null,
   "metadata": {},
   "outputs": [],
   "source": [
    "Fds=[0.5,1.2] #values of Fd\n",
    "y0disp=np.array([theta0+0.001,omega0]) #displacing the initial angle\n",
    "\n",
    "#plotting theta and omega for the displaced initial angle\n",
    "plot_omega_theta(Fds,f_forced,y0disp,delta_t,nsteps,q0,Omega_d)\n",
    "\n",
    "#plotting the difference delta theta\n",
    "for i in range(2):\n",
    "    #calculating theta using runge Kutta\n",
    "    X,T=Kutta4(f_forced,0,y0,delta_t,nsteps,Fds[i],q0,Omega_d)\n",
    "    Xdisp,Tdisp=Kutta4(f_forced,0,y0disp,delta_t,nsteps,Fds[i],q0,Omega_d)\n",
    "    D_theta=X[:,0]-Xdisp[:,0] #difference between the theta values\n",
    "    \n",
    "    plt.title(r'$\\Delta \\theta$ for Fd='+str(Fds[i]))\n",
    "    plt.xlabel(\"t\")\n",
    "    plt.ylabel(r\"$\\Delta \\theta$\")\n",
    "    plt.yscale(\"log\") #for semilogarithmic plot\n",
    "    plt.plot(T,D_theta)\n",
    "    plt.show()\n",
    "\n",
    "    "
   ]
  },
  {
   "cell_type": "markdown",
   "metadata": {},
   "source": [
    "### Task 3\n",
    "\n",
    "The plots below show the trajectory in phase space. The trajectory has an eliptic shape which expands in the beginging due to the driving force. The stroboscobic plot shows that after a time $\\Omega_D t = 2 \\pi n$, $n=0,1,2,3...$ the ratio between $\\omega$ and $\\theta$ seemingly stays the same. "
   ]
  },
  {
   "cell_type": "code",
   "execution_count": null,
   "metadata": {},
   "outputs": [],
   "source": [
    "Fds=[0.5,1.2]\n",
    "t_max3=100\n",
    "delta_t3 = 2*np.pi/Omega_d /1000\n",
    "nsteps3=int(t_max/delta_t)\n",
    "\n",
    "colors=[\"blue\", \"orange\", \"red\", \"green\"]\n",
    "\n",
    "plt.figure(figsize=(12,7))\n",
    "for i in range(2):\n",
    "    X,T=Kutta4(f_forced,0,y0,delta_t3,nsteps3,Fds[i],q0,Omega_d)\n",
    "    theta=X[:,0]\n",
    "    omega=X[:,1]\n",
    "    \n",
    "    #phase space plot\n",
    "    plt.plot(theta,omega,color=colors[i*2],label=str(Fds[i]))\n",
    "    \n",
    "    #Stroboscobic plot\n",
    "    theta_strob = [theta[i] for i in range(0,len(theta)-1,1000)]\n",
    "    omega_strob = [omega[i] for i in range(0,len(omega)-1,1000)]\n",
    "    plt.plot(theta_strob,omega_strob,'x',color=colors[i*2+1],label='stroboscobic plot')\n",
    "\n",
    "plt.title(\"Trajectory and stoboscobic plot in phase space\")\n",
    "plt.xlabel(r'$\\theta$')\n",
    "plt.ylabel(r'$\\omega$')\n",
    "plt.legend()\n",
    "plt.show()"
   ]
  },
  {
   "cell_type": "code",
   "execution_count": null,
   "metadata": {},
   "outputs": [],
   "source": [
    "\n",
    "\n"
   ]
  },
  {
   "cell_type": "code",
   "execution_count": null,
   "metadata": {},
   "outputs": [],
   "source": []
  },
  {
   "cell_type": "code",
   "execution_count": null,
   "metadata": {},
   "outputs": [],
   "source": []
  }
 ],
 "metadata": {
  "kernelspec": {
   "display_name": "Python 3",
   "language": "python",
   "name": "python3"
  },
  "language_info": {
   "codemirror_mode": {
    "name": "ipython",
    "version": 3
   },
   "file_extension": ".py",
   "mimetype": "text/x-python",
   "name": "python",
   "nbconvert_exporter": "python",
   "pygments_lexer": "ipython3",
   "version": "3.6.5"
  }
 },
 "nbformat": 4,
 "nbformat_minor": 2
}
